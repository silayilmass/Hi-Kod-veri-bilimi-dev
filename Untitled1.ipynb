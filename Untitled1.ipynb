{
 "cells": [
  {
   "cell_type": "markdown",
   "id": "f3e5202b",
   "metadata": {},
   "source": [
    "x=3 floata çevirelim. çevirdikten sonra veri tipini yazalım.\n",
    "y=4.5 integere çevirelim. çevirdikten sonra veri tipini yazalım.\n",
    "z='8' integere çevirelim. çevirdikten sonra veri tipini yazalım.\n",
    "a='12' floata çevirelim. çevirdikten sonra veri tipini yazalım.\n",
    "b='46.8' integere çevirelim. çevirdikten sonra veri tipini yazalım.\n",
    "Ödev-1: Değişkenlere atanmış değerlerin veri tipleri arasında dönüşüm yapılır."
   ]
  },
  {
   "cell_type": "code",
   "execution_count": 18,
   "id": "02f3f12b",
   "metadata": {},
   "outputs": [
    {
     "data": {
      "text/plain": [
       "int"
      ]
     },
     "execution_count": 18,
     "metadata": {},
     "output_type": "execute_result"
    }
   ],
   "source": [
    "x=3 \n",
    "type(x)"
   ]
  },
  {
   "cell_type": "code",
   "execution_count": 5,
   "id": "da597fa0",
   "metadata": {},
   "outputs": [
    {
     "name": "stdout",
     "output_type": "stream",
     "text": [
      "3.0\n"
     ]
    },
    {
     "data": {
      "text/plain": [
       "float"
      ]
     },
     "execution_count": 5,
     "metadata": {},
     "output_type": "execute_result"
    }
   ],
   "source": [
    "x= float(x)\n",
    "print(x)\n",
    "type(x)"
   ]
  },
  {
   "cell_type": "code",
   "execution_count": 3,
   "id": "11b5b219",
   "metadata": {},
   "outputs": [
    {
     "data": {
      "text/plain": [
       "float"
      ]
     },
     "execution_count": 3,
     "metadata": {},
     "output_type": "execute_result"
    }
   ],
   "source": [
    "y=4.5\n",
    "type(y)"
   ]
  },
  {
   "cell_type": "code",
   "execution_count": 6,
   "id": "c90469d5",
   "metadata": {},
   "outputs": [
    {
     "name": "stdout",
     "output_type": "stream",
     "text": [
      "4\n"
     ]
    },
    {
     "data": {
      "text/plain": [
       "int"
      ]
     },
     "execution_count": 6,
     "metadata": {},
     "output_type": "execute_result"
    }
   ],
   "source": [
    "y= int(y)\n",
    "print(y)\n",
    "type(y)\n"
   ]
  },
  {
   "cell_type": "code",
   "execution_count": 7,
   "id": "7c5eaa45",
   "metadata": {},
   "outputs": [
    {
     "data": {
      "text/plain": [
       "str"
      ]
     },
     "execution_count": 7,
     "metadata": {},
     "output_type": "execute_result"
    }
   ],
   "source": [
    "z='8'\n",
    "type(z)"
   ]
  },
  {
   "cell_type": "code",
   "execution_count": 8,
   "id": "2f44ce39",
   "metadata": {},
   "outputs": [
    {
     "name": "stdout",
     "output_type": "stream",
     "text": [
      "8\n"
     ]
    },
    {
     "data": {
      "text/plain": [
       "int"
      ]
     },
     "execution_count": 8,
     "metadata": {},
     "output_type": "execute_result"
    }
   ],
   "source": [
    "z= int(z)\n",
    "print(z)\n",
    "type(z)"
   ]
  },
  {
   "cell_type": "code",
   "execution_count": 9,
   "id": "c942fdd8",
   "metadata": {},
   "outputs": [
    {
     "data": {
      "text/plain": [
       "str"
      ]
     },
     "execution_count": 9,
     "metadata": {},
     "output_type": "execute_result"
    }
   ],
   "source": [
    "a='12'\n",
    "type(a)"
   ]
  },
  {
   "cell_type": "code",
   "execution_count": 11,
   "id": "240b7145",
   "metadata": {},
   "outputs": [
    {
     "name": "stdout",
     "output_type": "stream",
     "text": [
      "12.0\n"
     ]
    },
    {
     "data": {
      "text/plain": [
       "float"
      ]
     },
     "execution_count": 11,
     "metadata": {},
     "output_type": "execute_result"
    }
   ],
   "source": [
    "a= float(a)\n",
    "print(a)\n",
    "type(a)"
   ]
  },
  {
   "cell_type": "code",
   "execution_count": 12,
   "id": "78fca244",
   "metadata": {},
   "outputs": [
    {
     "data": {
      "text/plain": [
       "str"
      ]
     },
     "execution_count": 12,
     "metadata": {},
     "output_type": "execute_result"
    }
   ],
   "source": [
    "b='46.8'\n",
    "type(b)"
   ]
  },
  {
   "cell_type": "code",
   "execution_count": 14,
   "id": "4d323d67",
   "metadata": {},
   "outputs": [
    {
     "name": "stdout",
     "output_type": "stream",
     "text": [
      "46.8\n"
     ]
    },
    {
     "data": {
      "text/plain": [
       "float"
      ]
     },
     "execution_count": 14,
     "metadata": {},
     "output_type": "execute_result"
    }
   ],
   "source": [
    "b= float(b)\n",
    "print(b)\n",
    "type(b)"
   ]
  },
  {
   "cell_type": "code",
   "execution_count": 15,
   "id": "57422045",
   "metadata": {},
   "outputs": [
    {
     "name": "stdout",
     "output_type": "stream",
     "text": [
      "46\n"
     ]
    },
    {
     "data": {
      "text/plain": [
       "int"
      ]
     },
     "execution_count": 15,
     "metadata": {},
     "output_type": "execute_result"
    }
   ],
   "source": [
    "b= int(b)\n",
    "print(b)\n",
    "type(b)"
   ]
  },
  {
   "cell_type": "markdown",
   "id": "b9e30c52",
   "metadata": {},
   "source": [
    "Ödev-2: İsimlerden oluşan üç değişkene yaş değerleri atanır. Belirlenen üç değişken birbiriyle karşılaştırma operatörleri ile karşılaştırılır. Bu karşılaştırmalara mantıksal operatörler de eklenir."
   ]
  },
  {
   "cell_type": "code",
   "execution_count": 155,
   "id": "6b213592",
   "metadata": {},
   "outputs": [],
   "source": [
    "sıla = 20\n",
    "zeynep = 27\n",
    "nisa = 32"
   ]
  },
  {
   "cell_type": "code",
   "execution_count": 156,
   "id": "f6fccd43",
   "metadata": {},
   "outputs": [
    {
     "data": {
      "text/plain": [
       "False"
      ]
     },
     "execution_count": 156,
     "metadata": {},
     "output_type": "execute_result"
    }
   ],
   "source": [
    "32 < 27"
   ]
  },
  {
   "cell_type": "code",
   "execution_count": 157,
   "id": "c04f0030",
   "metadata": {},
   "outputs": [
    {
     "data": {
      "text/plain": [
       "True"
      ]
     },
     "execution_count": 157,
     "metadata": {},
     "output_type": "execute_result"
    }
   ],
   "source": [
    "sıla < 32"
   ]
  },
  {
   "cell_type": "code",
   "execution_count": 158,
   "id": "e1123cc7",
   "metadata": {},
   "outputs": [
    {
     "data": {
      "text/plain": [
       "True"
      ]
     },
     "execution_count": 158,
     "metadata": {},
     "output_type": "execute_result"
    }
   ],
   "source": [
    "27 != 20"
   ]
  },
  {
   "cell_type": "code",
   "execution_count": 159,
   "id": "221d9212",
   "metadata": {},
   "outputs": [
    {
     "data": {
      "text/plain": [
       "True"
      ]
     },
     "execution_count": 159,
     "metadata": {},
     "output_type": "execute_result"
    }
   ],
   "source": [
    "sıla < zeynep and zeynep < nisa"
   ]
  },
  {
   "cell_type": "code",
   "execution_count": 161,
   "id": "4f66f4b1",
   "metadata": {},
   "outputs": [
    {
     "data": {
      "text/plain": [
       "True"
      ]
     },
     "execution_count": 161,
     "metadata": {},
     "output_type": "execute_result"
    }
   ],
   "source": [
    "zeynep < nisa and nisa > sıla"
   ]
  },
  {
   "cell_type": "code",
   "execution_count": 162,
   "id": "04609c83",
   "metadata": {},
   "outputs": [
    {
     "data": {
      "text/plain": [
       "False"
      ]
     },
     "execution_count": 162,
     "metadata": {},
     "output_type": "execute_result"
    }
   ],
   "source": [
    "nisa < sıla or sıla > zeynep"
   ]
  },
  {
   "cell_type": "code",
   "execution_count": 163,
   "id": "30d2e918",
   "metadata": {},
   "outputs": [
    {
     "data": {
      "text/plain": [
       "True"
      ]
     },
     "execution_count": 163,
     "metadata": {},
     "output_type": "execute_result"
    }
   ],
   "source": [
    "not(sıla > nisa)"
   ]
  },
  {
   "cell_type": "markdown",
   "id": "9fa76faf",
   "metadata": {},
   "source": [
    "Ödev-3: Kullanıcıdan iki değer girmesini istenir. Girilen değerlerin toplama, çıkarma, çarpma, bölme sonuçlarını yazdırılır."
   ]
  },
  {
   "cell_type": "code",
   "execution_count": 172,
   "id": "51eac9a3",
   "metadata": {},
   "outputs": [
    {
     "name": "stdout",
     "output_type": "stream",
     "text": [
      "ilk sayıyı giriniz:10\n",
      "ikinci sayıyı giriniz:20\n",
      "Toplama: 30\n",
      "Çıkarma: -10\n",
      "Çarpma: 200\n",
      "Bölme: 0.5\n"
     ]
    }
   ],
   "source": [
    "sayi1 = int(input('ilk sayıyı giriniz:'))\n",
    "sayi2 = int(input('ikinci sayıyı giriniz:'))\n",
    "toplama = sayi1 + sayi2\n",
    "çıkarma = sayi1 - sayi2\n",
    "çarpma = sayi1 * sayi2\n",
    "bölme = sayi1 / sayi2\n",
    "print('Toplama:',toplama)\n",
    "print('Çıkarma:',çıkarma)\n",
    "print('Çarpma:',çarpma)\n",
    "print('Bölme:',bölme)"
   ]
  },
  {
   "cell_type": "markdown",
   "id": "bd874d4e",
   "metadata": {},
   "source": [
    "Ödev-4: Kullanıcıdan isim, yaş, şehir ve meslek bilgilerini istenir ve cevaplarını yazdırılır."
   ]
  },
  {
   "cell_type": "code",
   "execution_count": 173,
   "id": "3064a221",
   "metadata": {},
   "outputs": [
    {
     "name": "stdout",
     "output_type": "stream",
     "text": [
      "lütfen isminizi giriniz:Mauro Icardi\n",
      "lütfen yaşınızı giriniz:31\n",
      "lütfen şehrinizi girinizRosario\n",
      "lütfen mesleğinizi girinizfutbolcu\n",
      "İsim: Mauro Icardi\n",
      "Yaş: 31\n",
      "Şehir: Rosario\n",
      "Meslek: futbolcu\n"
     ]
    }
   ],
   "source": [
    "isim = input('lütfen isminizi giriniz:')\n",
    "yaş = input('lütfen yaşınızı giriniz:')\n",
    "şehir = input('lütfen şehrinizi giriniz')\n",
    "meslek = input('lütfen mesleğinizi giriniz')\n",
    "print('İsim:',isim)\n",
    "print('Yaş:',yaş)\n",
    "print('Şehir:',şehir)\n",
    "print('Meslek:',meslek)"
   ]
  },
  {
   "cell_type": "markdown",
   "id": "5fa12f35",
   "metadata": {},
   "source": [
    "Ödev-5: \"Hi-Kod Veri Bilimi Atölyesi\" ifadesini bir değişkene tanımlanır.\n",
    "\n",
    "\n",
    " İfadedeki her bir kelimeyi (\"Hi-Kod\", \"Veri\", \"Bilimi\", \"Atölyesi\") değişken içinden seçilir. \n",
    " İfadeyi hepsini büyük harf olacak hale çevrilir. (\"HI-KOD VERİ BİLİMİ ATÖLYESİ\") \n",
    " İfadeyi hepsini küçük harf olacak hale çevrilir.(\"hi-kod veri bilimi atölyesi\") "
   ]
  },
  {
   "cell_type": "code",
   "execution_count": 174,
   "id": "e46c58f6",
   "metadata": {},
   "outputs": [],
   "source": [
    "eğitim = 'Hi-Kod Veri Bilimi Atölyesi'"
   ]
  },
  {
   "cell_type": "code",
   "execution_count": 180,
   "id": "1a6ca01f",
   "metadata": {},
   "outputs": [
    {
     "name": "stdout",
     "output_type": "stream",
     "text": [
      "Hi-Kod\n"
     ]
    }
   ],
   "source": [
    "print(eğitim[0:6])"
   ]
  },
  {
   "cell_type": "code",
   "execution_count": 181,
   "id": "89f0f9fd",
   "metadata": {},
   "outputs": [
    {
     "name": "stdout",
     "output_type": "stream",
     "text": [
      "Veri\n"
     ]
    }
   ],
   "source": [
    "print(eğitim[7:11])"
   ]
  },
  {
   "cell_type": "code",
   "execution_count": 183,
   "id": "77f975ed",
   "metadata": {},
   "outputs": [
    {
     "name": "stdout",
     "output_type": "stream",
     "text": [
      "Bilimi\n"
     ]
    }
   ],
   "source": [
    "print(eğitim[12:18])"
   ]
  },
  {
   "cell_type": "code",
   "execution_count": 186,
   "id": "acb996a6",
   "metadata": {},
   "outputs": [
    {
     "name": "stdout",
     "output_type": "stream",
     "text": [
      "Atölyesi\n"
     ]
    }
   ],
   "source": [
    "print(eğitim[19:])"
   ]
  },
  {
   "cell_type": "code",
   "execution_count": 187,
   "id": "36527731",
   "metadata": {},
   "outputs": [
    {
     "data": {
      "text/plain": [
       "'HI-KOD VERI BILIMI ATÖLYESI'"
      ]
     },
     "execution_count": 187,
     "metadata": {},
     "output_type": "execute_result"
    }
   ],
   "source": [
    "eğitim.upper()"
   ]
  },
  {
   "cell_type": "code",
   "execution_count": 188,
   "id": "6aefcf5c",
   "metadata": {},
   "outputs": [
    {
     "data": {
      "text/plain": [
       "'hi-kod veri bilimi atölyesi'"
      ]
     },
     "execution_count": 188,
     "metadata": {},
     "output_type": "execute_result"
    }
   ],
   "source": [
    "eğitim.lower()"
   ]
  },
  {
   "cell_type": "markdown",
   "id": "59694156",
   "metadata": {},
   "source": [
    "\"0123456789\" ifadesindeki yalnızca çift sayıları ve yalnızca tek sayıları seçilir. (\"02468\", \"13579\")"
   ]
  },
  {
   "cell_type": "code",
   "execution_count": 189,
   "id": "a16a4c1a",
   "metadata": {},
   "outputs": [
    {
     "data": {
      "text/plain": [
       "'02468'"
      ]
     },
     "execution_count": 189,
     "metadata": {},
     "output_type": "execute_result"
    }
   ],
   "source": [
    "sayi_list = '0123456789'\n",
    "sayi_list[0:9:2]"
   ]
  },
  {
   "cell_type": "code",
   "execution_count": 196,
   "id": "b99ff355",
   "metadata": {},
   "outputs": [
    {
     "data": {
      "text/plain": [
       "'13579'"
      ]
     },
     "execution_count": 196,
     "metadata": {},
     "output_type": "execute_result"
    }
   ],
   "source": [
    "sayi_list[1::2]"
   ]
  }
 ],
 "metadata": {
  "kernelspec": {
   "display_name": "Python 3 (ipykernel)",
   "language": "python",
   "name": "python3"
  },
  "language_info": {
   "codemirror_mode": {
    "name": "ipython",
    "version": 3
   },
   "file_extension": ".py",
   "mimetype": "text/x-python",
   "name": "python",
   "nbconvert_exporter": "python",
   "pygments_lexer": "ipython3",
   "version": "3.11.7"
  }
 },
 "nbformat": 4,
 "nbformat_minor": 5
}
